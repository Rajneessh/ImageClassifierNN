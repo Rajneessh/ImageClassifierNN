{
  "cells": [
    {
      "cell_type": "markdown",
      "metadata": {
        "id": "view-in-github",
        "colab_type": "text"
      },
      "source": [
        "<a href=\"https://colab.research.google.com/github/Rajneessh/ImageClassifierNN/blob/main/ImageClassifierCIFAR10.ipynb\" target=\"_parent\"><img src=\"https://colab.research.google.com/assets/colab-badge.svg\" alt=\"Open In Colab\"/></a>"
      ]
    },
    {
      "cell_type": "code",
      "execution_count": 1,
      "metadata": {
        "id": "LnOHEFlMmXh5"
      },
      "outputs": [],
      "source": [
        "import tensorflow as tf\n",
        "from tensorflow.keras import datasets, layers, models\n",
        "import matplotlib.pyplot as plt\n",
        "import numpy as np"
      ]
    },
    {
      "cell_type": "code",
      "execution_count": 2,
      "metadata": {
        "id": "44QroDZkmXiE"
      },
      "outputs": [],
      "source": [
        "(X_train, y_train), (X_test, y_test) = datasets.cifar10.load_data()\n"
      ]
    },
    {
      "cell_type": "code",
      "source": [
        "\n",
        "X_train.shape"
      ],
      "metadata": {
        "colab": {
          "base_uri": "https://localhost:8080/"
        },
        "id": "BkxaSa9Pm-tV",
        "outputId": "da16faa6-784c-4f9c-efef-2bfb1a29404a"
      },
      "execution_count": 3,
      "outputs": [
        {
          "output_type": "execute_result",
          "data": {
            "text/plain": [
              "(50000, 32, 32, 3)"
            ]
          },
          "metadata": {},
          "execution_count": 3
        }
      ]
    },
    {
      "cell_type": "code",
      "execution_count": 4,
      "metadata": {
        "colab": {
          "base_uri": "https://localhost:8080/"
        },
        "id": "dfgwbYL4mXiH",
        "outputId": "3ad5210f-a9dc-4222-aac0-af93f3863b7a"
      },
      "outputs": [
        {
          "output_type": "execute_result",
          "data": {
            "text/plain": [
              "array([[6],\n",
              "       [9],\n",
              "       [9],\n",
              "       [4],\n",
              "       [1]], dtype=uint8)"
            ]
          },
          "metadata": {},
          "execution_count": 4
        }
      ],
      "source": [
        "y_train[:5]"
      ]
    },
    {
      "cell_type": "code",
      "execution_count": 5,
      "metadata": {
        "colab": {
          "base_uri": "https://localhost:8080/"
        },
        "id": "UD5wm8QlmXiJ",
        "outputId": "15e49dbb-820e-426b-9be8-3066270d8214"
      },
      "outputs": [
        {
          "output_type": "execute_result",
          "data": {
            "text/plain": [
              "array([6, 9, 9, 4, 1], dtype=uint8)"
            ]
          },
          "metadata": {},
          "execution_count": 5
        }
      ],
      "source": [
        "y_train = y_train.reshape(-1,)\n",
        "y_train[:5]"
      ]
    },
    {
      "cell_type": "code",
      "execution_count": 6,
      "metadata": {
        "colab": {
          "base_uri": "https://localhost:8080/"
        },
        "id": "v-0_uleVmXiM",
        "outputId": "b31affe0-139c-4538-9b59-db0484918375"
      },
      "outputs": [
        {
          "output_type": "execute_result",
          "data": {
            "text/plain": [
              "(10000, 32, 32, 3)"
            ]
          },
          "metadata": {},
          "execution_count": 6
        }
      ],
      "source": [
        "X_test.shape"
      ]
    },
    {
      "cell_type": "code",
      "execution_count": 7,
      "metadata": {
        "colab": {
          "base_uri": "https://localhost:8080/",
          "height": 70
        },
        "id": "YYQnVoHGmXiR",
        "outputId": "89d8d050-96be-45ce-ddaf-13ca858e8618"
      },
      "outputs": [
        {
          "output_type": "execute_result",
          "data": {
            "text/plain": [
              "array([[[ 59,  62,  63],\n",
              "        [ 43,  46,  45],\n",
              "        [ 50,  48,  43],\n",
              "        ...,\n",
              "        [158, 132, 108],\n",
              "        [152, 125, 102],\n",
              "        [148, 124, 103]],\n",
              "\n",
              "       [[ 16,  20,  20],\n",
              "        [  0,   0,   0],\n",
              "        [ 18,   8,   0],\n",
              "        ...,\n",
              "        [123,  88,  55],\n",
              "        [119,  83,  50],\n",
              "        [122,  87,  57]],\n",
              "\n",
              "       [[ 25,  24,  21],\n",
              "        [ 16,   7,   0],\n",
              "        [ 49,  27,   8],\n",
              "        ...,\n",
              "        [118,  84,  50],\n",
              "        [120,  84,  50],\n",
              "        [109,  73,  42]],\n",
              "\n",
              "       ...,\n",
              "\n",
              "       [[208, 170,  96],\n",
              "        [201, 153,  34],\n",
              "        [198, 161,  26],\n",
              "        ...,\n",
              "        [160, 133,  70],\n",
              "        [ 56,  31,   7],\n",
              "        [ 53,  34,  20]],\n",
              "\n",
              "       [[180, 139,  96],\n",
              "        [173, 123,  42],\n",
              "        [186, 144,  30],\n",
              "        ...,\n",
              "        [184, 148,  94],\n",
              "        [ 97,  62,  34],\n",
              "        [ 83,  53,  34]],\n",
              "\n",
              "       [[177, 144, 116],\n",
              "        [168, 129,  94],\n",
              "        [179, 142,  87],\n",
              "        ...,\n",
              "        [216, 184, 140],\n",
              "        [151, 118,  84],\n",
              "        [123,  92,  72]]], dtype=uint8)"
            ],
            "text/html": [
              "<style>\n",
              "      .ndarray_repr .ndarray_raw_data {\n",
              "        display: none;\n",
              "      }\n",
              "      .ndarray_repr.show_array .ndarray_raw_data {\n",
              "        display: block;\n",
              "      }\n",
              "      .ndarray_repr.show_array .ndarray_image_preview {\n",
              "        display: none;\n",
              "      }\n",
              "      </style>\n",
              "      <div id=\"id-9ee30409-5a49-451e-bc59-40c7b6533c47\" class=\"ndarray_repr\"><pre>ndarray (32, 32, 3) <button style=\"padding: 0 2px;\">show data</button></pre><img src=\"data:image/png;base64,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\" class=\"ndarray_image_preview\" /><pre class=\"ndarray_raw_data\">array([[[ 59,  62,  63],\n",
              "        [ 43,  46,  45],\n",
              "        [ 50,  48,  43],\n",
              "        ...,\n",
              "        [158, 132, 108],\n",
              "        [152, 125, 102],\n",
              "        [148, 124, 103]],\n",
              "\n",
              "       [[ 16,  20,  20],\n",
              "        [  0,   0,   0],\n",
              "        [ 18,   8,   0],\n",
              "        ...,\n",
              "        [123,  88,  55],\n",
              "        [119,  83,  50],\n",
              "        [122,  87,  57]],\n",
              "\n",
              "       [[ 25,  24,  21],\n",
              "        [ 16,   7,   0],\n",
              "        [ 49,  27,   8],\n",
              "        ...,\n",
              "        [118,  84,  50],\n",
              "        [120,  84,  50],\n",
              "        [109,  73,  42]],\n",
              "\n",
              "       ...,\n",
              "\n",
              "       [[208, 170,  96],\n",
              "        [201, 153,  34],\n",
              "        [198, 161,  26],\n",
              "        ...,\n",
              "        [160, 133,  70],\n",
              "        [ 56,  31,   7],\n",
              "        [ 53,  34,  20]],\n",
              "\n",
              "       [[180, 139,  96],\n",
              "        [173, 123,  42],\n",
              "        [186, 144,  30],\n",
              "        ...,\n",
              "        [184, 148,  94],\n",
              "        [ 97,  62,  34],\n",
              "        [ 83,  53,  34]],\n",
              "\n",
              "       [[177, 144, 116],\n",
              "        [168, 129,  94],\n",
              "        [179, 142,  87],\n",
              "        ...,\n",
              "        [216, 184, 140],\n",
              "        [151, 118,  84],\n",
              "        [123,  92,  72]]], dtype=uint8)</pre></div><script>\n",
              "      (() => {\n",
              "      const titles = ['show data', 'hide data'];\n",
              "      let index = 0\n",
              "      document.querySelector('#id-9ee30409-5a49-451e-bc59-40c7b6533c47 button').onclick = (e) => {\n",
              "        document.querySelector('#id-9ee30409-5a49-451e-bc59-40c7b6533c47').classList.toggle('show_array');\n",
              "        index = (++index) % 2;\n",
              "        document.querySelector('#id-9ee30409-5a49-451e-bc59-40c7b6533c47 button').textContent = titles[index];\n",
              "        e.preventDefault();\n",
              "        e.stopPropagation();\n",
              "      }\n",
              "      })();\n",
              "    </script>"
            ]
          },
          "metadata": {},
          "execution_count": 7
        }
      ],
      "source": [
        "X_train[0]"
      ]
    },
    {
      "cell_type": "code",
      "execution_count": 8,
      "metadata": {
        "id": "B_usEPrtmXiY"
      },
      "outputs": [],
      "source": [
        "classes = ['airplane','automobile','bird','cat', 'deer','dog', 'frog', 'horse', 'ship', 'truck' ]"
      ]
    },
    {
      "cell_type": "code",
      "execution_count": 9,
      "metadata": {
        "id": "MAT-3wE2mXig"
      },
      "outputs": [],
      "source": [
        "def plot_sample(X, y , index):\n",
        "    plt.figure(figsize=(15,2))\n",
        "    plt.imshow(X[index])\n",
        "    plt.xlabel(classes[y[index]])"
      ]
    },
    {
      "cell_type": "code",
      "execution_count": 10,
      "metadata": {
        "colab": {
          "base_uri": "https://localhost:8080/",
          "height": 237
        },
        "id": "nAQwcsbRmXil",
        "outputId": "66c4935b-ecc1-459d-9e10-940a30ebb98b"
      },
      "outputs": [
        {
          "output_type": "display_data",
          "data": {
            "text/plain": [
              "<Figure size 1500x200 with 1 Axes>"
            ],
            "image/png": "[encoded data removed]"
          },
          "metadata": {}
        }
      ],
      "source": [
        "plot_sample(X_train,y_train, 1)"
      ]
    },
    {
      "cell_type": "code",
      "execution_count": 11,
      "metadata": {
        "colab": {
          "base_uri": "https://localhost:8080/",
          "height": 237
        },
        "id": "OkK-HJqLmXio",
        "outputId": "e323a532-1c5a-49c5-a128-36ef4acb9b2a"
      },
      "outputs": [
        {
          "output_type": "display_data",
          "data": {
            "text/plain": [
              "<Figure size 1500x200 with 1 Axes>"
            ],
            "image/png": "[encoded data removed]"
          },
          "metadata": {}
        }
      ],
      "source": [
        "plot_sample(X_train, y_train, 0)"
      ]
    },
    {
      "cell_type": "code",
      "execution_count": 12,
      "metadata": {
        "id": "OPfGTtPZmXiq"
      },
      "outputs": [],
      "source": [
        "X_train = X_train/255.0\n",
        "X_test = X_test/255.0"
      ]
    },
    {
      "cell_type": "markdown",
      "source": [
        "## <center>Artificial Neural Network</center>"
      ],
      "metadata": {
        "id": "L5OtKT3Zsyqv"
      }
    },
    {
      "cell_type": "code",
      "execution_count": 54,
      "metadata": {
        "id": "qGGb6CUrmXiw"
      },
      "outputs": [],
      "source": [
        "ann = models.Sequential([\n",
        "        layers.Flatten(input_shape=(32,32,3)),\n",
        "        layers.Dense(3000, activation='relu'),\n",
        "        layers.Dense(1000, activation='relu'),\n",
        "        layers.Dense(10, activation='sigmoid')\n",
        "])"
      ]
    },
    {
      "cell_type": "code",
      "source": [
        "from tensorflow.keras.optimizers import Adam\n",
        "\n",
        "ann.compile(\n",
        "    optimizer=Adam(learning_rate = 0.0001),\n",
        "    loss='sparse_categorical_crossentropy',\n",
        "    metrics=['accuracy']\n",
        ")"
      ],
      "metadata": {
        "id": "cYTLjFJ_oCjn"
      },
      "execution_count": 55,
      "outputs": []
    },
    {
      "cell_type": "code",
      "source": [
        "ann.summary()"
      ],
      "metadata": {
        "colab": {
          "base_uri": "https://localhost:8080/"
        },
        "id": "ear0nTKrnth6",
        "outputId": "647dcc2b-ce53-4e0d-dabf-0dd87e8f01d3"
      },
      "execution_count": 56,
      "outputs": [
        {
          "output_type": "stream",
          "name": "stdout",
          "text": [
            "Model: \"sequential_1\"\n",
            "_________________________________________________________________\n",
            " Layer (type)                Output Shape              Param #   \n",
            "=================================================================\n",
            " flatten_1 (Flatten)         (None, 3072)              0         \n",
            "                                                                 \n",
            " dense_2 (Dense)             (None, 3000)              9219000   \n",
            "                                                                 \n",
            " dense_3 (Dense)             (None, 1000)              3001000   \n",
            "                                                                 \n",
            " dense_4 (Dense)             (None, 10)                10010     \n",
            "                                                                 \n",
            "=================================================================\n",
            "Total params: 12230010 (46.65 MB)\n",
            "Trainable params: 12230010 (46.65 MB)\n",
            "Non-trainable params: 0 (0.00 Byte)\n",
            "_________________________________________________________________\n"
          ]
        }
      ]
    },
    {
      "cell_type": "code",
      "source": [
        "ann.fit(X_train, y_train, epochs=5, batch_size =32)"
      ],
      "metadata": {
        "colab": {
          "base_uri": "https://localhost:8080/"
        },
        "id": "QbSaoKkToERF",
        "outputId": "aa3872e9-1c7e-49b1-a229-8068e37285cc"
      },
      "execution_count": null,
      "outputs": [
        {
          "output_type": "stream",
          "name": "stdout",
          "text": [
            "Epoch 1/5\n",
            "1563/1563 [==============================] - 14s 6ms/step - loss: 1.7912 - accuracy: 0.3574\n",
            "Epoch 2/5\n",
            "1563/1563 [==============================] - 9s 6ms/step - loss: 1.5997 - accuracy: 0.4329\n",
            "Epoch 3/5\n",
            "1563/1563 [==============================] - 10s 7ms/step - loss: 1.4986 - accuracy: 0.4679\n",
            "Epoch 4/5\n",
            "1563/1563 [==============================] - 10s 7ms/step - loss: 1.4403 - accuracy: 0.4868\n",
            "Epoch 5/5\n",
            "1563/1563 [==============================] - 11s 7ms/step - loss: 1.3836 - accuracy: 0.5090\n"
          ]
        },
        {
          "output_type": "execute_result",
          "data": {
            "text/plain": [
              "<keras.src.callbacks.History at 0x7a19102b4dc0>"
            ]
          },
          "metadata": {},
          "execution_count": 17
        }
      ]
    },
    {
      "cell_type": "code",
      "source": [
        "ann.evaluate(X_test, y_test)"
      ],
      "metadata": {
        "colab": {
          "base_uri": "https://localhost:8080/"
        },
        "id": "49v2VB5WqwvD",
        "outputId": "6b7c70eb-fc31-4e93-89fa-72151938b53a"
      },
      "execution_count": null,
      "outputs": [
        {
          "output_type": "stream",
          "name": "stdout",
          "text": [
            "313/313 [==============================] - 1s 3ms/step - loss: 1.4052 - accuracy: 0.4982\n"
          ]
        },
        {
          "output_type": "execute_result",
          "data": {
            "text/plain": [
              "[1.4052369594573975, 0.498199999332428]"
            ]
          },
          "metadata": {},
          "execution_count": 18
        }
      ]
    },
    {
      "cell_type": "code",
      "source": [
        "from sklearn.metrics import classification_report, confusion_matrix\n",
        "\n",
        "y_pred = ann.predict(X_test)\n",
        "y_pred_classes = [np.argmax(element) for element in y_pred]\n",
        "\n",
        "print('Classification Report: \\n', classification_report(y_test, y_pred_classes))"
      ],
      "metadata": {
        "colab": {
          "base_uri": "https://localhost:8080/"
        },
        "id": "-5bTqVzdqFEa",
        "outputId": "aeda3ac0-6d13-4731-d6bb-834ead4ba0a0"
      },
      "execution_count": null,
      "outputs": [
        {
          "output_type": "stream",
          "name": "stdout",
          "text": [
            "313/313 [==============================] - 1s 2ms/step\n",
            "Classification Report: \n",
            "               precision    recall  f1-score   support\n",
            "\n",
            "           0       0.58      0.55      0.56      1000\n",
            "           1       0.62      0.59      0.61      1000\n",
            "           2       0.46      0.26      0.33      1000\n",
            "           3       0.36      0.36      0.36      1000\n",
            "           4       0.41      0.47      0.44      1000\n",
            "           5       0.47      0.32      0.38      1000\n",
            "           6       0.50      0.57      0.54      1000\n",
            "           7       0.59      0.54      0.57      1000\n",
            "           8       0.48      0.76      0.59      1000\n",
            "           9       0.52      0.56      0.54      1000\n",
            "\n",
            "    accuracy                           0.50     10000\n",
            "   macro avg       0.50      0.50      0.49     10000\n",
            "weighted avg       0.50      0.50      0.49     10000\n",
            "\n"
          ]
        }
      ]
    },
    {
      "cell_type": "markdown",
      "source": [
        "## <center>Convolutional Neural Network</center>"
      ],
      "metadata": {
        "id": "RrgdpEUPtYJ_"
      }
    },
    {
      "cell_type": "code",
      "execution_count": 13,
      "metadata": {
        "id": "7vvUmz8omXi5"
      },
      "outputs": [],
      "source": [
        "cnn = models.Sequential([\n",
        "        #cnn\n",
        "        layers.Conv2D(filters=32, kernel_size=(3,3), activation='relu', input_shape=(32,32,3)),\n",
        "        layers.MaxPooling2D((2,2)),\n",
        "        layers.Dropout(0.2),\n",
        "\n",
        "\n",
        "        layers.Conv2D(filters=32, kernel_size=(3,3), activation='relu', input_shape=(32,32,3)),\n",
        "        layers.MaxPooling2D((2,2)),\n",
        "        layers.Dropout(0.2),\n",
        "\n",
        "        #dense\n",
        "        layers.Flatten(),\n",
        "        layers.Dense(64, activation='relu'),\n",
        "        layers.Dense(10, activation='softmax'),\n",
        "])"
      ]
    },
    {
      "cell_type": "code",
      "execution_count": 14,
      "metadata": {
        "id": "1fJ_mHqImXi-"
      },
      "outputs": [],
      "source": [
        "from tensorflow.keras.optimizers import Adam\n",
        "cnn.compile(optimizer=Adam(learning_rate=0.0001),\n",
        "            loss='sparse_categorical_crossentropy',\n",
        "            metrics=['accuracy'])"
      ]
    },
    {
      "cell_type": "code",
      "source": [
        "cnn.summary()"
      ],
      "metadata": {
        "colab": {
          "base_uri": "https://localhost:8080/"
        },
        "id": "lfSIXQM8n81H",
        "outputId": "4a51432d-b99a-4ade-d5a8-f7aa465c965e"
      },
      "execution_count": 15,
      "outputs": [
        {
          "output_type": "stream",
          "name": "stdout",
          "text": [
            "Model: \"sequential\"\n",
            "_________________________________________________________________\n",
            " Layer (type)                Output Shape              Param #   \n",
            "=================================================================\n",
            " conv2d (Conv2D)             (None, 30, 30, 32)        896       \n",
            "                                                                 \n",
            " max_pooling2d (MaxPooling2  (None, 15, 15, 32)        0         \n",
            " D)                                                              \n",
            "                                                                 \n",
            " dropout (Dropout)           (None, 15, 15, 32)        0         \n",
            "                                                                 \n",
            " conv2d_1 (Conv2D)           (None, 13, 13, 32)        9248      \n",
            "                                                                 \n",
            " max_pooling2d_1 (MaxPoolin  (None, 6, 6, 32)          0         \n",
            " g2D)                                                            \n",
            "                                                                 \n",
            " dropout_1 (Dropout)         (None, 6, 6, 32)          0         \n",
            "                                                                 \n",
            " flatten (Flatten)           (None, 1152)              0         \n",
            "                                                                 \n",
            " dense (Dense)               (None, 64)                73792     \n",
            "                                                                 \n",
            " dense_1 (Dense)             (None, 10)                650       \n",
            "                                                                 \n",
            "=================================================================\n",
            "Total params: 84586 (330.41 KB)\n",
            "Trainable params: 84586 (330.41 KB)\n",
            "Non-trainable params: 0 (0.00 Byte)\n",
            "_________________________________________________________________\n"
          ]
        }
      ]
    },
    {
      "cell_type": "markdown",
      "source": [
        "### <center>Model 1</center>"
      ],
      "metadata": {
        "id": "d0-lBnALtsIz"
      }
    },
    {
      "cell_type": "code",
      "execution_count": null,
      "metadata": {
        "colab": {
          "base_uri": "https://localhost:8080/"
        },
        "id": "4Py0OSx6mXjA",
        "outputId": "73072c8d-749e-48e8-96a9-612676dc737c"
      },
      "outputs": [
        {
          "output_type": "stream",
          "name": "stdout",
          "text": [
            "Epoch 1/10\n",
            "1563/1563 [==============================] - 6s 4ms/step - loss: 0.9806 - accuracy: 0.6582\n",
            "Epoch 2/10\n",
            "1563/1563 [==============================] - 7s 5ms/step - loss: 0.9698 - accuracy: 0.6631\n",
            "Epoch 3/10\n",
            "1563/1563 [==============================] - 7s 4ms/step - loss: 0.9615 - accuracy: 0.6650\n",
            "Epoch 4/10\n",
            "1563/1563 [==============================] - 7s 5ms/step - loss: 0.9522 - accuracy: 0.6675\n",
            "Epoch 5/10\n",
            "1563/1563 [==============================] - 6s 4ms/step - loss: 0.9456 - accuracy: 0.6700\n",
            "Epoch 6/10\n",
            "1563/1563 [==============================] - 7s 5ms/step - loss: 0.9373 - accuracy: 0.6753\n",
            "Epoch 7/10\n",
            "1563/1563 [==============================] - 6s 4ms/step - loss: 0.9243 - accuracy: 0.6809\n",
            "Epoch 8/10\n",
            "1563/1563 [==============================] - 7s 5ms/step - loss: 0.9223 - accuracy: 0.6790\n",
            "Epoch 9/10\n",
            "1563/1563 [==============================] - 6s 4ms/step - loss: 0.9141 - accuracy: 0.6812\n",
            "Epoch 10/10\n",
            "1563/1563 [==============================] - 7s 5ms/step - loss: 0.9050 - accuracy: 0.6858\n"
          ]
        }
      ],
      "source": [
        "cnn.fit(X_train, y_train, epochs=10)"
      ]
    },
    {
      "cell_type": "code",
      "source": [
        "cnn.evaluate(X_test, y_test)"
      ],
      "metadata": {
        "colab": {
          "base_uri": "https://localhost:8080/"
        },
        "id": "-31X43QjuHyA",
        "outputId": "af8b07d9-7d89-4a46-b4c8-e8f699186efd"
      },
      "execution_count": null,
      "outputs": [
        {
          "output_type": "stream",
          "name": "stdout",
          "text": [
            "313/313 [==============================] - 1s 2ms/step - loss: 0.9026 - accuracy: 0.6903\n"
          ]
        },
        {
          "output_type": "execute_result",
          "data": {
            "text/plain": [
              "[0.902553915977478, 0.6902999877929688]"
            ]
          },
          "metadata": {},
          "execution_count": 26
        }
      ]
    },
    {
      "cell_type": "markdown",
      "source": [
        "### Model 2"
      ],
      "metadata": {
        "id": "4h3cXGbqt27w"
      }
    },
    {
      "cell_type": "code",
      "execution_count": null,
      "metadata": {
        "colab": {
          "base_uri": "https://localhost:8080/"
        },
        "id": "ildVxV_8mXjC",
        "outputId": "9614189e-ac92-46f7-8914-93c5c943b457"
      },
      "outputs": [
        {
          "output_type": "stream",
          "name": "stdout",
          "text": [
            "Epoch 1/10\n",
            "3125/3125 [==============================] - 17s 6ms/step - loss: 1.2145 - accuracy: 0.5711\n",
            "Epoch 2/10\n",
            "3125/3125 [==============================] - 13s 4ms/step - loss: 1.1772 - accuracy: 0.5854\n",
            "Epoch 3/10\n",
            "3125/3125 [==============================] - 16s 5ms/step - loss: 1.1446 - accuracy: 0.5979\n",
            "Epoch 4/10\n",
            "3125/3125 [==============================] - 14s 4ms/step - loss: 1.1183 - accuracy: 0.6064\n",
            "Epoch 5/10\n",
            "3125/3125 [==============================] - 20s 6ms/step - loss: 1.0935 - accuracy: 0.6154\n",
            "Epoch 6/10\n",
            "3125/3125 [==============================] - 21s 7ms/step - loss: 1.0702 - accuracy: 0.6253\n",
            "Epoch 7/10\n",
            "3125/3125 [==============================] - 21s 7ms/step - loss: 1.0507 - accuracy: 0.6346\n",
            "Epoch 8/10\n",
            "3125/3125 [==============================] - 15s 5ms/step - loss: 1.0348 - accuracy: 0.6386\n",
            "Epoch 9/10\n",
            "3125/3125 [==============================] - 17s 5ms/step - loss: 1.0166 - accuracy: 0.6463\n",
            "Epoch 10/10\n",
            "3125/3125 [==============================] - 13s 4ms/step - loss: 1.0009 - accuracy: 0.6495\n"
          ]
        },
        {
          "output_type": "execute_result",
          "data": {
            "text/plain": [
              "<keras.src.callbacks.History at 0x7a19195ba050>"
            ]
          },
          "metadata": {},
          "execution_count": 24
        }
      ],
      "source": [
        "cnn.fit(X_train, y_train, epochs=10, batch_size=16)"
      ]
    },
    {
      "cell_type": "code",
      "source": [
        "cnn.evaluate(X_test, y_test)"
      ],
      "metadata": {
        "id": "UES7R3iFuMIa"
      },
      "execution_count": null,
      "outputs": []
    },
    {
      "cell_type": "markdown",
      "source": [
        "### Model 3"
      ],
      "metadata": {
        "id": "p67XSXP_t58E"
      }
    },
    {
      "cell_type": "code",
      "source": [
        "cnn.fit(X_train, y_train, epochs=40, batch_size=16)"
      ],
      "metadata": {
        "colab": {
          "base_uri": "https://localhost:8080/"
        },
        "id": "WDBKj4mFtVaN",
        "outputId": "636472b6-a225-4ca8-94b6-a4454467de9f"
      },
      "execution_count": 17,
      "outputs": [
        {
          "output_type": "stream",
          "name": "stdout",
          "text": [
            "Epoch 1/40\n",
            "3125/3125 [==============================] - 13s 4ms/step - loss: 1.0051 - accuracy: 0.6495\n",
            "Epoch 2/40\n",
            "3125/3125 [==============================] - 12s 4ms/step - loss: 0.9912 - accuracy: 0.6544\n",
            "Epoch 3/40\n",
            "3125/3125 [==============================] - 12s 4ms/step - loss: 0.9795 - accuracy: 0.6589\n",
            "Epoch 4/40\n",
            "3125/3125 [==============================] - 12s 4ms/step - loss: 0.9657 - accuracy: 0.6630\n",
            "Epoch 5/40\n",
            "3125/3125 [==============================] - 12s 4ms/step - loss: 0.9524 - accuracy: 0.6672\n",
            "Epoch 6/40\n",
            "3125/3125 [==============================] - 12s 4ms/step - loss: 0.9445 - accuracy: 0.6725\n",
            "Epoch 7/40\n",
            "3125/3125 [==============================] - 12s 4ms/step - loss: 0.9326 - accuracy: 0.6737\n",
            "Epoch 8/40\n",
            "3125/3125 [==============================] - 12s 4ms/step - loss: 0.9212 - accuracy: 0.6803\n",
            "Epoch 9/40\n",
            "3125/3125 [==============================] - 12s 4ms/step - loss: 0.9116 - accuracy: 0.6804\n",
            "Epoch 10/40\n",
            "3125/3125 [==============================] - 12s 4ms/step - loss: 0.9023 - accuracy: 0.6876\n",
            "Epoch 11/40\n",
            "3125/3125 [==============================] - 12s 4ms/step - loss: 0.8928 - accuracy: 0.6895\n",
            "Epoch 12/40\n",
            "3125/3125 [==============================] - 12s 4ms/step - loss: 0.8860 - accuracy: 0.6916\n",
            "Epoch 13/40\n",
            "3125/3125 [==============================] - 12s 4ms/step - loss: 0.8729 - accuracy: 0.6962\n",
            "Epoch 14/40\n",
            "3125/3125 [==============================] - 12s 4ms/step - loss: 0.8690 - accuracy: 0.7000\n",
            "Epoch 15/40\n",
            "3125/3125 [==============================] - 12s 4ms/step - loss: 0.8583 - accuracy: 0.7007\n",
            "Epoch 16/40\n",
            "3125/3125 [==============================] - 12s 4ms/step - loss: 0.8498 - accuracy: 0.7029\n",
            "Epoch 17/40\n",
            "3125/3125 [==============================] - 12s 4ms/step - loss: 0.8446 - accuracy: 0.7058\n",
            "Epoch 18/40\n",
            "3125/3125 [==============================] - 12s 4ms/step - loss: 0.8378 - accuracy: 0.7100\n",
            "Epoch 19/40\n",
            "3125/3125 [==============================] - 12s 4ms/step - loss: 0.8288 - accuracy: 0.7114\n",
            "Epoch 20/40\n",
            "3125/3125 [==============================] - 12s 4ms/step - loss: 0.8227 - accuracy: 0.7123\n",
            "Epoch 21/40\n",
            "3125/3125 [==============================] - 12s 4ms/step - loss: 0.8149 - accuracy: 0.7176\n",
            "Epoch 22/40\n",
            "3125/3125 [==============================] - 12s 4ms/step - loss: 0.8132 - accuracy: 0.7163\n",
            "Epoch 23/40\n",
            "3125/3125 [==============================] - 12s 4ms/step - loss: 0.8016 - accuracy: 0.7228\n",
            "Epoch 24/40\n",
            "3125/3125 [==============================] - 16s 5ms/step - loss: 0.7985 - accuracy: 0.7213\n",
            "Epoch 25/40\n",
            "3125/3125 [==============================] - 12s 4ms/step - loss: 0.7867 - accuracy: 0.7244\n",
            "Epoch 26/40\n",
            "3125/3125 [==============================] - 12s 4ms/step - loss: 0.7823 - accuracy: 0.7272\n",
            "Epoch 27/40\n",
            "3125/3125 [==============================] - 12s 4ms/step - loss: 0.7788 - accuracy: 0.7279\n",
            "Epoch 28/40\n",
            "3125/3125 [==============================] - 12s 4ms/step - loss: 0.7675 - accuracy: 0.7329\n",
            "Epoch 29/40\n",
            "3125/3125 [==============================] - 12s 4ms/step - loss: 0.7666 - accuracy: 0.7333\n",
            "Epoch 30/40\n",
            "3125/3125 [==============================] - 12s 4ms/step - loss: 0.7624 - accuracy: 0.7327\n",
            "Epoch 31/40\n",
            "3125/3125 [==============================] - 12s 4ms/step - loss: 0.7598 - accuracy: 0.7344\n",
            "Epoch 32/40\n",
            "3125/3125 [==============================] - 12s 4ms/step - loss: 0.7474 - accuracy: 0.7394\n",
            "Epoch 33/40\n",
            "3125/3125 [==============================] - 12s 4ms/step - loss: 0.7445 - accuracy: 0.7395\n",
            "Epoch 34/40\n",
            "3125/3125 [==============================] - 12s 4ms/step - loss: 0.7404 - accuracy: 0.7417\n",
            "Epoch 35/40\n",
            "3125/3125 [==============================] - 12s 4ms/step - loss: 0.7348 - accuracy: 0.7435\n",
            "Epoch 36/40\n",
            "3125/3125 [==============================] - 12s 4ms/step - loss: 0.7304 - accuracy: 0.7466\n",
            "Epoch 37/40\n",
            "3125/3125 [==============================] - 12s 4ms/step - loss: 0.7242 - accuracy: 0.7463\n",
            "Epoch 38/40\n",
            "3125/3125 [==============================] - 12s 4ms/step - loss: 0.7195 - accuracy: 0.7500\n",
            "Epoch 39/40\n",
            "3125/3125 [==============================] - 12s 4ms/step - loss: 0.7143 - accuracy: 0.7513\n",
            "Epoch 40/40\n",
            "3125/3125 [==============================] - 12s 4ms/step - loss: 0.7104 - accuracy: 0.7523\n"
          ]
        },
        {
          "output_type": "execute_result",
          "data": {
            "text/plain": [
              "<keras.src.callbacks.History at 0x7d20ec260460>"
            ]
          },
          "metadata": {},
          "execution_count": 17
        }
      ]
    },
    {
      "cell_type": "code",
      "source": [
        "cnn.evaluate(X_test, y_test)"
      ],
      "metadata": {
        "colab": {
          "base_uri": "https://localhost:8080/"
        },
        "id": "qFFiu6s_u6HH",
        "outputId": "a9bfd62b-5c8a-433c-b883-a144c334e7b7"
      },
      "execution_count": 18,
      "outputs": [
        {
          "output_type": "stream",
          "name": "stdout",
          "text": [
            "313/313 [==============================] - 1s 2ms/step - loss: 0.8154 - accuracy: 0.7187\n"
          ]
        },
        {
          "output_type": "execute_result",
          "data": {
            "text/plain": [
              "[0.8153817653656006, 0.7186999917030334]"
            ]
          },
          "metadata": {},
          "execution_count": 18
        }
      ]
    },
    {
      "cell_type": "code",
      "source": [
        "from sklearn.metrics import classification_report, confusion_matrix\n",
        "\n",
        "y_pred = cnn.predict(X_test)\n",
        "y_pred_classes = [np.argmax(element) for element in y_pred]\n",
        "\n",
        "print('Classification Report: \\n', classification_report(y_test, y_pred_classes))"
      ],
      "metadata": {
        "colab": {
          "base_uri": "https://localhost:8080/"
        },
        "id": "x0q5Y7Vixco9",
        "outputId": "3fb2e367-1148-448c-fb1f-34271f3bdbec"
      },
      "execution_count": 19,
      "outputs": [
        {
          "output_type": "stream",
          "name": "stdout",
          "text": [
            "313/313 [==============================] - 1s 2ms/step\n",
            "Classification Report: \n",
            "               precision    recall  f1-score   support\n",
            "\n",
            "           0       0.72      0.79      0.75      1000\n",
            "           1       0.81      0.85      0.83      1000\n",
            "           2       0.64      0.60      0.62      1000\n",
            "           3       0.58      0.45      0.51      1000\n",
            "           4       0.70      0.65      0.67      1000\n",
            "           5       0.57      0.69      0.62      1000\n",
            "           6       0.78      0.82      0.80      1000\n",
            "           7       0.77      0.78      0.77      1000\n",
            "           8       0.78      0.83      0.81      1000\n",
            "           9       0.84      0.73      0.78      1000\n",
            "\n",
            "    accuracy                           0.72     10000\n",
            "   macro avg       0.72      0.72      0.72     10000\n",
            "weighted avg       0.72      0.72      0.72     10000\n",
            "\n"
          ]
        }
      ]
    },
    {
      "cell_type": "markdown",
      "source": [
        "## <center>Further Prediction</center>"
      ],
      "metadata": {
        "id": "qrAbfWo-vaKq"
      }
    },
    {
      "cell_type": "code",
      "source": [
        "y_test = y_test.reshape(-1,)\n",
        "y_test[:5]"
      ],
      "metadata": {
        "colab": {
          "base_uri": "https://localhost:8080/"
        },
        "id": "ohId0zPXvd5E",
        "outputId": "972310da-320c-4544-e2b3-8710f413dc8f"
      },
      "execution_count": 20,
      "outputs": [
        {
          "output_type": "execute_result",
          "data": {
            "text/plain": [
              "array([3, 8, 8, 0, 6], dtype=uint8)"
            ]
          },
          "metadata": {},
          "execution_count": 20
        }
      ]
    },
    {
      "cell_type": "code",
      "source": [
        "y_pred = cnn.predict(X_test)\n",
        "y_pred[:5]"
      ],
      "metadata": {
        "colab": {
          "base_uri": "https://localhost:8080/"
        },
        "id": "ZXJdzjJDxyZh",
        "outputId": "88fb8bf4-a8bd-4c47-edff-389a18a4ef0c"
      },
      "execution_count": 21,
      "outputs": [
        {
          "output_type": "stream",
          "name": "stdout",
          "text": [
            "313/313 [==============================] - 1s 2ms/step\n"
          ]
        },
        {
          "output_type": "execute_result",
          "data": {
            "text/plain": [
              "array([[6.38709357e-03, 5.92615339e-04, 2.89012324e-02, 7.40951240e-01,\n",
              "        2.24844669e-03, 2.00310528e-01, 3.06372973e-03, 1.57957300e-04,\n",
              "        1.69947706e-02, 3.92402610e-04],\n",
              "       [9.44871455e-03, 3.61622423e-02, 7.06781202e-06, 7.97787322e-07,\n",
              "        3.69112172e-07, 3.05511811e-08, 1.64346350e-08, 1.86010240e-07,\n",
              "        9.53905523e-01, 4.75106877e-04],\n",
              "       [1.62891731e-01, 5.72371967e-02, 2.79226247e-03, 3.83676426e-03,\n",
              "        5.33331069e-04, 7.64906988e-04, 1.21242345e-04, 1.47541577e-04,\n",
              "        7.41700411e-01, 2.99745966e-02],\n",
              "       [6.99321151e-01, 4.52211387e-02, 3.65825184e-02, 1.46799430e-03,\n",
              "        3.99780041e-03, 1.49078551e-04, 1.18917902e-04, 8.63429232e-05,\n",
              "        2.09354967e-01, 3.70008405e-03],\n",
              "       [5.81858467e-06, 2.94160098e-04, 1.38521241e-02, 4.75220084e-02,\n",
              "        5.08329809e-01, 2.86355894e-02, 4.00749952e-01, 1.65018457e-04,\n",
              "        4.33318230e-04, 1.22668798e-05]], dtype=float32)"
            ]
          },
          "metadata": {},
          "execution_count": 21
        }
      ]
    },
    {
      "cell_type": "code",
      "source": [
        "y_classes = [np.argmax(element) for element in y_pred]\n",
        "y_classes[:5]"
      ],
      "metadata": {
        "colab": {
          "base_uri": "https://localhost:8080/"
        },
        "id": "INZRhCudyItQ",
        "outputId": "2993197f-aa7f-4b17-f6a4-f538efa87a48"
      },
      "execution_count": 22,
      "outputs": [
        {
          "output_type": "execute_result",
          "data": {
            "text/plain": [
              "[3, 8, 8, 0, 4]"
            ]
          },
          "metadata": {},
          "execution_count": 22
        }
      ]
    },
    {
      "cell_type": "code",
      "source": [
        "y_test[:5]"
      ],
      "metadata": {
        "colab": {
          "base_uri": "https://localhost:8080/"
        },
        "id": "VXpfO2PUyRma",
        "outputId": "ce97ebdd-1ec1-4ed9-ad28-4feaf55399ca"
      },
      "execution_count": 23,
      "outputs": [
        {
          "output_type": "execute_result",
          "data": {
            "text/plain": [
              "array([3, 8, 8, 0, 6], dtype=uint8)"
            ]
          },
          "metadata": {},
          "execution_count": 23
        }
      ]
    },
    {
      "cell_type": "code",
      "source": [
        "plot_sample(X_test, y_test, 4)"
      ],
      "metadata": {
        "colab": {
          "base_uri": "https://localhost:8080/",
          "height": 237
        },
        "id": "LroZhIk-zgsC",
        "outputId": "f97ebe75-f0fd-43cd-da12-7d342281c286"
      },
      "execution_count": 25,
      "outputs": [
        {
          "output_type": "display_data",
          "data": {
            "text/plain": [
              "<Figure size 1500x200 with 1 Axes>"
            ],
            "image/png": "[encoded data removed]"
          },
          "metadata": {}
        }
      ]
    },
    {
      "cell_type": "code",
      "source": [
        "classes[y_classes[4]]"
      ],
      "metadata": {
        "colab": {
          "base_uri": "https://localhost:8080/",
          "height": 35
        },
        "id": "4cY2dya_zFbJ",
        "outputId": "cc56c3e2-74da-40e5-80f3-ddbe23b9b87b"
      },
      "execution_count": 26,
      "outputs": [
        {
          "output_type": "execute_result",
          "data": {
            "text/plain": [
              "'deer'"
            ],
            "application/vnd.google.colaboratory.intrinsic+json": {
              "type": "string"
            }
          },
          "metadata": {},
          "execution_count": 26
        }
      ]
    },
    {
      "cell_type": "markdown",
      "source": [
        "## Export the Model"
      ],
      "metadata": {
        "id": "NuKYGMT1Bs3K"
      }
    },
    {
      "cell_type": "code",
      "source": [
        "cnn.save('CNN_CifarDataset.h5')"
      ],
      "metadata": {
        "colab": {
          "base_uri": "https://localhost:8080/"
        },
        "id": "f2ijUkbuAorJ",
        "outputId": "6fef41f5-723d-4c16-a590-a42c78f43026"
      },
      "execution_count": 27,
      "outputs": [
        {
          "output_type": "stream",
          "name": "stderr",
          "text": [
            "/usr/local/lib/python3.10/dist-packages/keras/src/engine/training.py:3103: UserWarning: You are saving your model as an HDF5 file via `model.save()`. This file format is considered legacy. We recommend using instead the native Keras format, e.g. `model.save('my_model.keras')`.\n",
            "  saving_api.save_model(\n"
          ]
        }
      ]
    },
    {
      "cell_type": "markdown",
      "source": [
        "## Prediction"
      ],
      "metadata": {
        "id": "97a3fjmvB4kV"
      }
    },
    {
      "cell_type": "code",
      "source": [
        "loaded_model = tf.keras.models.load_model('CNN_Cifar10Dataset.h5')"
      ],
      "metadata": {
        "id": "-CkyOeOTByJq"
      },
      "execution_count": 28,
      "outputs": []
    },
    {
      "cell_type": "code",
      "source": [
        "loss, accuracy = loaded_model.evaluate(X_test, y_test)"
      ],
      "metadata": {
        "colab": {
          "base_uri": "https://localhost:8080/"
        },
        "id": "jvjyl6QWB-2A",
        "outputId": "5ff24638-9583-4c6e-a314-fb79b4156b13"
      },
      "execution_count": 43,
      "outputs": [
        {
          "output_type": "stream",
          "name": "stdout",
          "text": [
            "313/313 [==============================] - 1s 3ms/step - loss: 0.8154 - accuracy: 0.7187\n"
          ]
        }
      ]
    },
    {
      "cell_type": "code",
      "source": [
        "accuracy = round(accuracy,4)\n",
        "print(accuracy)"
      ],
      "metadata": {
        "colab": {
          "base_uri": "https://localhost:8080/"
        },
        "id": "IHGH75HICmyH",
        "outputId": "8d3b24a3-6e5b-4748-f332-3c215a25cc49"
      },
      "execution_count": 44,
      "outputs": [
        {
          "output_type": "stream",
          "name": "stdout",
          "text": [
            "0.7187\n"
          ]
        }
      ]
    },
    {
      "cell_type": "code",
      "source": [
        "print(f'Loss: {loss:.4f} \\nTest Accuracy: {accuracy*100}%')"
      ],
      "metadata": {
        "colab": {
          "base_uri": "https://localhost:8080/"
        },
        "id": "GqksGghkCETM",
        "outputId": "5b98d75e-b08b-4b1a-98c5-90c15967dc8a"
      },
      "execution_count": 45,
      "outputs": [
        {
          "output_type": "stream",
          "name": "stdout",
          "text": [
            "Loss: 0.8154 \n",
            "Test Accuracy: 71.87%\n"
          ]
        }
      ]
    },
    {
      "cell_type": "code",
      "source": [
        "from tensorflow.keras.preprocessing import image\n",
        "\n",
        "def predict_new_images(image_path):\n",
        "  img = image.load_img(image_path, target_size=(32,32))\n",
        "  img_array = image.img_to_array(img) / 255.0\n",
        "  img_array = np.expand_dims(img_array, axis=0)\n",
        "  predictions = loaded_model.predict(img_array)\n",
        "  predicted_class = np.argmax(predictions)\n",
        "  return predicted_class\n"
      ],
      "metadata": {
        "id": "25AnxHfECIxq"
      },
      "execution_count": 46,
      "outputs": []
    },
    {
      "cell_type": "code",
      "source": [
        "predicted_class = predict_new_images('/content/Cat.jpeg')\n",
        "print(f'Predicted Class: {classes[predicted_class]}')"
      ],
      "metadata": {
        "colab": {
          "base_uri": "https://localhost:8080/"
        },
        "id": "il2CusQ_DbA8",
        "outputId": "7a358326-cff9-4603-c9d0-1ebb979a8db0"
      },
      "execution_count": 47,
      "outputs": [
        {
          "output_type": "stream",
          "name": "stdout",
          "text": [
            "1/1 [==============================] - 0s 241ms/step\n",
            "Predicted Class: cat\n"
          ]
        }
      ]
    },
    {
      "cell_type": "code",
      "source": [
        "predicted_class = predict_new_images('/content/airplane.jpg')\n",
        "print(f'Predicted Class: {classes[predicted_class]}')"
      ],
      "metadata": {
        "colab": {
          "base_uri": "https://localhost:8080/"
        },
        "id": "eUvVcmBJEGG6",
        "outputId": "a18a1bca-19ad-41af-8ef0-62443be06820"
      },
      "execution_count": 49,
      "outputs": [
        {
          "output_type": "stream",
          "name": "stdout",
          "text": [
            "1/1 [==============================] - 0s 26ms/step\n",
            "Predicted Class: airplane\n"
          ]
        }
      ]
    },
    {
      "cell_type": "code",
      "source": [
        "predicted_class = predict_new_images('/content/dog.jpg')\n",
        "print(f'Predicted Class: {classes[predicted_class]}')"
      ],
      "metadata": {
        "colab": {
          "base_uri": "https://localhost:8080/"
        },
        "id": "2wQ1Cx6xEK7O",
        "outputId": "591f5e91-de81-4b32-82fa-c100812b091a"
      },
      "execution_count": 50,
      "outputs": [
        {
          "output_type": "stream",
          "name": "stdout",
          "text": [
            "1/1 [==============================] - 0s 26ms/step\n",
            "Predicted Class: horse\n"
          ]
        }
      ]
    },
    {
      "cell_type": "code",
      "source": [
        "predicted_class = predict_new_images('/content/frog.jpg')\n",
        "print(f'Predicted Class: {classes[predicted_class]}')"
      ],
      "metadata": {
        "colab": {
          "base_uri": "https://localhost:8080/"
        },
        "id": "35j16kviEQdT",
        "outputId": "492d6269-c939-4d1e-d4b1-720067ff3ece"
      },
      "execution_count": 51,
      "outputs": [
        {
          "output_type": "stream",
          "name": "stdout",
          "text": [
            "1/1 [==============================] - 0s 90ms/step\n",
            "Predicted Class: frog\n"
          ]
        }
      ]
    },
    {
      "cell_type": "code",
      "source": [
        "predicted_class = predict_new_images('/content/truck.jpg')\n",
        "print(f'Predicted Class: {classes[predicted_class]}')"
      ],
      "metadata": {
        "colab": {
          "base_uri": "https://localhost:8080/"
        },
        "id": "CazljkHwEa1J",
        "outputId": "8b663249-02a0-451d-e459-0c6f764805d5"
      },
      "execution_count": 52,
      "outputs": [
        {
          "output_type": "stream",
          "name": "stdout",
          "text": [
            "1/1 [==============================] - 0s 26ms/step\n",
            "Predicted Class: truck\n"
          ]
        }
      ]
    },
    {
      "cell_type": "code",
      "source": [],
      "metadata": {
        "id": "EyNEFz3LEg4i"
      },
      "execution_count": null,
      "outputs": []
    },
    {
      "cell_type": "code",
      "source": [
        "from google.colab import drive\n",
        "drive.mount('/content/drive')"
      ],
      "metadata": {
        "colab": {
          "base_uri": "https://localhost:8080/"
        },
        "id": "QxVPO3X4ElhC",
        "outputId": "7e01a97f-07ff-4fa7-fdb9-4a0a627a58ec"
      },
      "execution_count": 53,
      "outputs": [
        {
          "output_type": "stream",
          "name": "stdout",
          "text": [
            "Mounted at /content/drive\n"
          ]
        }
      ]
    },
    {
      "cell_type": "code",
      "source": [],
      "metadata": {
        "id": "yuvgjEWoEmKD"
      },
      "execution_count": null,
      "outputs": []
    }
  ],
  "metadata": {
    "kernelspec": {
      "display_name": "Python 3",
      "name": "python3"
    },
    "language_info": {
      "codemirror_mode": {
        "name": "ipython",
        "version": 3
      },
      "file_extension": ".py",
      "mimetype": "text/x-python",
      "name": "python",
      "nbconvert_exporter": "python",
      "pygments_lexer": "ipython3",
      "version": "3.11.7"
    },
    "colab": {
      "provenance": [],
      "gpuType": "T4",
      "include_colab_link": true
    },
    "accelerator": "GPU"
  },
  "nbformat": 4,
  "nbformat_minor": 0
}
